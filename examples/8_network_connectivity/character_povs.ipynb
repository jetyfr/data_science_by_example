{
 "cells": [
  {
   "cell_type": "code",
   "execution_count": 11,
   "metadata": {
    "collapsed": false
   },
   "outputs": [],
   "source": [
    "import pandas\n",
    "import numpy as np\n",
    "\n",
    "df = pandas.read_csv(\"chapter_povs.csv\")"
   ]
  },
  {
   "cell_type": "code",
   "execution_count": 12,
   "metadata": {
    "collapsed": false
   },
   "outputs": [
    {
     "name": "stdout",
     "output_type": "stream",
     "text": [
      "             Character  Total Book 1 Book 2 Book 3 Book 4 Book 5 Book 6\n",
      "0     Tyrion Lannister     48      9     15     11            12      1\n",
      "1             Jon Snow     42      9      8     12            13       \n",
      "2           Arya Stark     34      5     10     13      3      2      1\n",
      "3   Daenerys Targaryen     31     10      5      6            10       \n",
      "4        Catelyn Stark     25     11      7      7                     \n",
      "5          Sansa Stark     25      6      8      7      3             1\n",
      "6           Bran Stark     21      7      7      4             3       \n",
      "7      Jaime Lannister     17                    9      7      1       \n",
      "8         Eddard Stark     15     15                                   \n",
      "9        Theon Greyjoy     14             6                    7      1\n",
      "10      Davos Seaworth     13             3      6             4       \n",
      "11    Cersei Lannister     12                          10      2       \n",
      "12       Samwell Tarly     10                    5      5              \n",
      "13    Brienne of Tarth      8                           8              \n",
      "14     Barristan Selmy      5                                  4      1\n",
      "15   Victarion Greyjoy      4                           2      2       \n",
      "16     Quentyn Martell      4                                  4       \n",
      "17        Asha Greyjoy      4                           1      3       \n",
      "18     Arianne Martell      3                           2             1\n",
      "19       Aeron Greyjoy      2                           2              \n",
      "20      Jon Connington      2                                  2       \n",
      "21          Areo Hotah      2                           1      1       \n",
      "22          Melisandre      1                                  1       \n",
      "23       Arys Oakheart      1                           1              \n"
     ]
    }
   ],
   "source": [
    "print(df.replace(np.nan,' ', regex=True))"
   ]
  },
  {
   "cell_type": "code",
   "execution_count": null,
   "metadata": {
    "collapsed": true
   },
   "outputs": [],
   "source": []
  }
 ],
 "metadata": {
  "kernelspec": {
   "display_name": "Python 2",
   "language": "python",
   "name": "python2"
  },
  "language_info": {
   "codemirror_mode": {
    "name": "ipython",
    "version": 2
   },
   "file_extension": ".py",
   "mimetype": "text/x-python",
   "name": "python",
   "nbconvert_exporter": "python",
   "pygments_lexer": "ipython2",
   "version": "2.7.11"
  }
 },
 "nbformat": 4,
 "nbformat_minor": 0
}
